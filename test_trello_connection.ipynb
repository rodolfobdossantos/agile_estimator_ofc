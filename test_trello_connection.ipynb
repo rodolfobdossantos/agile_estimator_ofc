{
 "cells": [
  {
   "cell_type": "code",
   "execution_count": 1,
   "id": "231fcb4e-a202-421b-afd5-62093df79503",
   "metadata": {},
   "outputs": [
    {
     "name": "stdout",
     "output_type": "stream",
     "text": [
      "✅ Consulta bem-sucedida!\n",
      "📋 Listas encontradas no board:\n",
      "\n",
      "- A fazer (ID: 6891356a01e4dbb84aeef7f6)\n",
      "- Em andamento (ID: 6891356a01e4dbb84aeef7f7)\n",
      "- Concluído (ID: 6891356a01e4dbb84aeef7f8)\n"
     ]
    }
   ],
   "source": [
    "# Consulta simples ao board do Trello\n",
    "import os\n",
    "from dotenv import load_dotenv\n",
    "import requests\n",
    "\n",
    "# Carrega as variáveis do .env\n",
    "load_dotenv()\n",
    "\n",
    "TRELLO_KEY = os.getenv(\"TRELLO_KEY\")\n",
    "TRELLO_TOKEN = os.getenv(\"TRELLO_TOKEN\")\n",
    "BOARD_ID = os.getenv(\"BOARD_ID\")\n",
    "\n",
    "# Endpoint da API para obter listas do board\n",
    "url = f\"https://api.trello.com/1/boards/{BOARD_ID}/lists\"\n",
    "params = {\n",
    "    \"key\": TRELLO_KEY,\n",
    "    \"token\": TRELLO_TOKEN\n",
    "}\n",
    "\n",
    "try:\n",
    "    response = requests.get(url, params=params)\n",
    "    response.raise_for_status()  # Lança erro para códigos 4xx e 5xx\n",
    "\n",
    "    listas = response.json()\n",
    "\n",
    "    print(\"✅ Consulta bem-sucedida!\")\n",
    "    print(\"📋 Listas encontradas no board:\\n\")\n",
    "    for lista in listas:\n",
    "        print(f\"- {lista['name']} (ID: {lista['id']})\")\n",
    "\n",
    "except requests.exceptions.HTTPError as http_err:\n",
    "    print(f\"❌ Erro HTTP: {http_err} - Código: {response.status_code}\")\n",
    "except requests.exceptions.RequestException as req_err:\n",
    "    print(f\"❌ Erro na requisição: {req_err}\")\n",
    "except Exception as e:\n",
    "    print(f\"❌ Erro inesperado: {e}\")\n"
   ]
  },
  {
   "cell_type": "code",
   "execution_count": null,
   "id": "1e53484e-2922-42fb-9005-da9b6eb9bf98",
   "metadata": {},
   "outputs": [],
   "source": []
  }
 ],
 "metadata": {
  "kernelspec": {
   "display_name": "Python 3 (ipykernel)",
   "language": "python",
   "name": "python3"
  },
  "language_info": {
   "codemirror_mode": {
    "name": "ipython",
    "version": 3
   },
   "file_extension": ".py",
   "mimetype": "text/x-python",
   "name": "python",
   "nbconvert_exporter": "python",
   "pygments_lexer": "ipython3",
   "version": "3.12.3"
  }
 },
 "nbformat": 4,
 "nbformat_minor": 5
}
