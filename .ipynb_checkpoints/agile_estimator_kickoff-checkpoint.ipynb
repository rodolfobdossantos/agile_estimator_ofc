{
 "cells": [
  {
   "cell_type": "code",
   "execution_count": 27,
   "id": "479c5212-6586-4a43-bfb9-a7056c8aab6e",
   "metadata": {},
   "outputs": [
    {
     "name": "stdout",
     "output_type": "stream",
     "text": [
      "TRELLO_KEY carregada: True\n",
      "TRELLO_TOKEN carregado: True\n"
     ]
    }
   ],
   "source": [
    "from dotenv import load_dotenv\n",
    "import os\n",
    "\n",
    "load_dotenv()\n",
    "\n",
    "TRELLO_KEY = os.getenv(\"TRELLO_KEY\")\n",
    "TRELLO_TOKEN = os.getenv(\"TRELLO_TOKEN\")\n",
    "\n",
    "print(\"TRELLO_KEY carregada:\", bool(TRELLO_KEY))\n",
    "print(\"TRELLO_TOKEN carregado:\", bool(TRELLO_TOKEN))"
   ]
  },
  {
   "cell_type": "code",
   "execution_count": 3,
   "id": "77006890-b47f-420e-a9c6-d791f4aac463",
   "metadata": {},
   "outputs": [
    {
     "name": "stdout",
     "output_type": "stream",
     "text": [
      "✅ Conectado com sucesso! 2 boards encontrados:\n",
      "• agile_estimator (ID: 6891356a01e4dbb84aeef7b1)\n",
      "• Meu quadro do Trello (ID: 689135416dbd5416a88e3239)\n"
     ]
    }
   ],
   "source": [
    "import requests\n",
    "\n",
    "# Endpoint da API para buscar os boards do usuário logado\n",
    "url = \"https://api.trello.com/1/members/me/boards\"\n",
    "\n",
    "# Parâmetros de autenticação\n",
    "params = {\n",
    "    \"key\": TRELLO_KEY,\n",
    "    \"token\": TRELLO_TOKEN\n",
    "}\n",
    "\n",
    "# Requisição GET\n",
    "response = requests.get(url, params=params)\n",
    "\n",
    "# Verificar e exibir os resultados\n",
    "if response.status_code == 200:\n",
    "    boards = response.json()\n",
    "    print(f\"✅ Conectado com sucesso! {len(boards)} boards encontrados:\")\n",
    "    for board in boards[:5]:  # Exibir os 5 primeiros\n",
    "        print(f\"• {board['name']} (ID: {board['id']})\")\n",
    "else:\n",
    "    print(\"❌ Falha na requisição:\", response.status_code)\n",
    "    print(\"Detalhes:\", response.text)\n"
   ]
  },
  {
   "cell_type": "code",
   "execution_count": 28,
   "id": "0caef800-c0ce-441e-a6d4-f33b50dc9cb4",
   "metadata": {},
   "outputs": [
    {
     "name": "stdout",
     "output_type": "stream",
     "text": [
      "BOARD_ID carregado: True\n"
     ]
    }
   ],
   "source": [
    "from dotenv import load_dotenv\n",
    "import os\n",
    "\n",
    "load_dotenv()\n",
    "\n",
    "BOARD_ID = os.getenv(\"BOARD_ID\")\n",
    "\n",
    "print(\"BOARD_ID carregado:\", bool(BOARD_ID))\n"
   ]
  },
  {
   "cell_type": "code",
   "execution_count": 32,
   "id": "f12209a7-dcd8-4ed2-a51d-6e9443afb609",
   "metadata": {},
   "outputs": [
    {
     "name": "stdout",
     "output_type": "stream",
     "text": [
      "[\n",
      "  {\n",
      "    \"name\": \"A fazer\",\n",
      "    \"id\": \"6891356a01e4dbb84aeef7f6\",\n",
      "    \"idBoard\": \"6891356a01e4dbb84aeef7b1\",\n",
      "    \"pos\": 140737488355328,\n",
      "    \"closed\": false,\n",
      "    \"subscribed\": false,\n",
      "    \"cards\": [\n",
      "      {\n",
      "        \"id\": \"689141723404eee63cbbaa45\",\n",
      "        \"name\": \"Teste a fazer\",\n",
      "        \"url\": \"https://trello.com/c/eGNgf6sC/1-teste-a-fazer\",\n",
      "        \"due\": \"2025-08-05T21:00:00.000Z\",\n",
      "        \"labels\": [\n",
      "          \"Fix\"\n",
      "        ]\n",
      "      }\n",
      "    ]\n",
      "  },\n",
      "  {\n",
      "    \"name\": \"Em andamento\",\n",
      "    \"id\": \"6891356a01e4dbb84aeef7f7\",\n",
      "    \"idBoard\": \"6891356a01e4dbb84aeef7b1\",\n",
      "    \"pos\": 140737488371712,\n",
      "    \"closed\": false,\n",
      "    \"subscribed\": false,\n",
      "    \"cards\": [\n",
      "      {\n",
      "        \"id\": \"689142bd53ea9fc9a66dc030\",\n",
      "        \"name\": \"Teste em andamento\",\n",
      "        \"url\": \"https://trello.com/c/MSnk0uW3/2-teste-em-andamento\",\n",
      "        \"due\": \"2025-08-06T21:00:00.000Z\",\n",
      "        \"labels\": [\n",
      "          \"\"\n",
      "        ]\n",
      "      }\n",
      "    ]\n",
      "  },\n",
      "  {\n",
      "    \"name\": \"Concluído\",\n",
      "    \"id\": \"6891356a01e4dbb84aeef7f8\",\n",
      "    \"idBoard\": \"6891356a01e4dbb84aeef7b1\",\n",
      "    \"pos\": 140737488388096,\n",
      "    \"closed\": false,\n",
      "    \"subscribed\": false,\n",
      "    \"cards\": [\n",
      "      {\n",
      "        \"id\": \"689142d753d78083d0e88da8\",\n",
      "        \"name\": \"Teste concluido\",\n",
      "        \"url\": \"https://trello.com/c/0gSbrGNC/3-teste-concluido\",\n",
      "        \"due\": \"2025-08-07T21:00:00.000Z\",\n",
      "        \"labels\": [\n",
      "          \"\"\n",
      "        ]\n",
      "      }\n",
      "    ]\n",
      "  }\n",
      "]\n"
     ]
    }
   ],
   "source": [
    "import os\n",
    "from dotenv import load_dotenv\n",
    "import requests\n",
    "import json\n",
    "\n",
    "# Carrega variáveis do .env\n",
    "load_dotenv()\n",
    "\n",
    "TRELLO_KEY = os.getenv(\"TRELLO_KEY\")\n",
    "TRELLO_TOKEN = os.getenv(\"TRELLO_TOKEN\")\n",
    "BOARD_ID = os.getenv(\"BOARD_ID\")\n",
    "\n",
    "url = f\"https://api.trello.com/1/boards/{BOARD_ID}/lists\"\n",
    "\n",
    "params = {\n",
    "    \"key\": TRELLO_KEY,\n",
    "    \"token\": TRELLO_TOKEN\n",
    "}\n",
    "\n",
    "try:\n",
    "    # Envia a requisição para obter as listas\n",
    "    response = requests.get(url, params=params)\n",
    "    response.raise_for_status()\n",
    "\n",
    "    listas = response.json()\n",
    "    listas_formatadas = []\n",
    "\n",
    "    for lista in listas:\n",
    "        list_id = lista.get(\"id\")\n",
    "\n",
    "        # Requisição para buscar os cards da lista atual\n",
    "        cards_url = f\"https://api.trello.com/1/lists/{list_id}/cards\"\n",
    "        cards_response = requests.get(cards_url, params=params)\n",
    "\n",
    "        if cards_response.status_code == 200:\n",
    "            cards_data = cards_response.json()\n",
    "            cards_formatados = [{\n",
    "                \"id\": card.get(\"id\"),\n",
    "                \"name\": card.get(\"name\"),\n",
    "                \"url\": card.get(\"url\"),\n",
    "                \"due\": card.get(\"due\"),\n",
    "                \"labels\": [label[\"name\"] for label in card.get(\"labels\", [])]\n",
    "            } for card in cards_data]\n",
    "        else:\n",
    "            cards_formatados = []\n",
    "\n",
    "        listas_formatadas.append({\n",
    "            \"name\": lista.get(\"name\"),\n",
    "            \"id\": lista.get(\"id\"),\n",
    "            \"idBoard\": lista.get(\"idBoard\"),\n",
    "            \"pos\": lista.get(\"pos\"),\n",
    "            \"closed\": lista.get(\"closed\"),\n",
    "            \"subscribed\": lista.get(\"subscribed\"),\n",
    "            \"cards\": cards_formatados\n",
    "        })\n",
    "\n",
    "    # Imprime tudo formatado em JSON\n",
    "    print(json.dumps(listas_formatadas, indent=2, ensure_ascii=False))\n",
    "\n",
    "except requests.exceptions.HTTPError as http_err:\n",
    "    print(f\"❌ Erro HTTP: {http_err} - Código: {response.status_code}\")\n",
    "except requests.exceptions.RequestException as err:\n",
    "    print(f\"❌ Erro na requisição: {err}\")\n",
    "except Exception as e:\n",
    "    print(f\"❌ Erro inesperado: {e}\")"
   ]
  },
  {
   "cell_type": "code",
   "execution_count": null,
   "id": "219d69d1-81e3-438a-bded-4ce6c892ce24",
   "metadata": {},
   "outputs": [],
   "source": []
  }
 ],
 "metadata": {
  "kernelspec": {
   "display_name": "Python 3 (ipykernel)",
   "language": "python",
   "name": "python3"
  },
  "language_info": {
   "codemirror_mode": {
    "name": "ipython",
    "version": 3
   },
   "file_extension": ".py",
   "mimetype": "text/x-python",
   "name": "python",
   "nbconvert_exporter": "python",
   "pygments_lexer": "ipython3",
   "version": "3.12.3"
  }
 },
 "nbformat": 4,
 "nbformat_minor": 5
}
